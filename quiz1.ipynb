{
 "cells": [
  {
   "cell_type": "markdown",
   "id": "195949e5-7743-4763-ad7b-01fd10ac9f8c",
   "metadata": {},
   "source": [
    "#1)How do you declare a variabe named \"name\" and assing value \"john\" to it...?"
   ]
  },
  {
   "cell_type": "code",
   "execution_count": 1,
   "id": "f46c09f9-f5ca-43cf-8a52-454d423a47e5",
   "metadata": {},
   "outputs": [
    {
     "name": "stdout",
     "output_type": "stream",
     "text": [
      "john\n"
     ]
    }
   ],
   "source": [
    "name=\"john\"\n",
    "print (name)"
   ]
  },
  {
   "cell_type": "code",
   "execution_count": null,
   "id": "d15d7923-2cdc-4e8f-826e-82455f30fa63",
   "metadata": {},
   "outputs": [],
   "source": [
    "#2)write python code to load csv...?"
   ]
  },
  {
   "cell_type": "code",
   "execution_count": 5,
   "id": "3214898f-d759-4793-a36c-27f008d04b7b",
   "metadata": {},
   "outputs": [],
   "source": [
    "import pandas as pd \n",
    "import numpy as np"
   ]
  },
  {
   "cell_type": "code",
   "execution_count": 7,
   "id": "d7023902-d489-48bc-a1cd-f31626939d63",
   "metadata": {},
   "outputs": [],
   "source": [
    "data=pd.read_csv(\"data.csv\")"
   ]
  },
  {
   "cell_type": "code",
   "execution_count": null,
   "id": "74ce9588-4700-4d85-a47e-f4d126b7f7f9",
   "metadata": {},
   "outputs": [],
   "source": [
    "#3)display last 5 rows...?"
   ]
  },
  {
   "cell_type": "code",
   "execution_count": 9,
   "id": "64f8198d-317d-4846-83d0-01b97e7e100c",
   "metadata": {},
   "outputs": [
    {
     "data": {
      "text/html": [
       "<div>\n",
       "<style scoped>\n",
       "    .dataframe tbody tr th:only-of-type {\n",
       "        vertical-align: middle;\n",
       "    }\n",
       "\n",
       "    .dataframe tbody tr th {\n",
       "        vertical-align: top;\n",
       "    }\n",
       "\n",
       "    .dataframe thead th {\n",
       "        text-align: right;\n",
       "    }\n",
       "</style>\n",
       "<table border=\"1\" class=\"dataframe\">\n",
       "  <thead>\n",
       "    <tr style=\"text-align: right;\">\n",
       "      <th></th>\n",
       "      <th>Date</th>\n",
       "      <th>Open</th>\n",
       "      <th>High</th>\n",
       "      <th>Low</th>\n",
       "      <th>Close</th>\n",
       "      <th>Volume</th>\n",
       "      <th>Dividends</th>\n",
       "      <th>Stock Splits</th>\n",
       "    </tr>\n",
       "  </thead>\n",
       "  <tbody>\n",
       "    <tr>\n",
       "      <th>11284</th>\n",
       "      <td>2024-12-18 00:00:00-05:00</td>\n",
       "      <td>20.480000</td>\n",
       "      <td>20.580000</td>\n",
       "      <td>19.209999</td>\n",
       "      <td>19.299999</td>\n",
       "      <td>86041200</td>\n",
       "      <td>0.0</td>\n",
       "      <td>0.0</td>\n",
       "    </tr>\n",
       "    <tr>\n",
       "      <th>11285</th>\n",
       "      <td>2024-12-19 00:00:00-05:00</td>\n",
       "      <td>19.530001</td>\n",
       "      <td>19.690001</td>\n",
       "      <td>19.030001</td>\n",
       "      <td>19.059999</td>\n",
       "      <td>69117800</td>\n",
       "      <td>0.0</td>\n",
       "      <td>0.0</td>\n",
       "    </tr>\n",
       "    <tr>\n",
       "      <th>11286</th>\n",
       "      <td>2024-12-20 00:00:00-05:00</td>\n",
       "      <td>18.969999</td>\n",
       "      <td>19.760000</td>\n",
       "      <td>18.900000</td>\n",
       "      <td>19.520000</td>\n",
       "      <td>108453700</td>\n",
       "      <td>0.0</td>\n",
       "      <td>0.0</td>\n",
       "    </tr>\n",
       "    <tr>\n",
       "      <th>11287</th>\n",
       "      <td>2024-12-23 00:00:00-05:00</td>\n",
       "      <td>19.580000</td>\n",
       "      <td>20.230000</td>\n",
       "      <td>19.520000</td>\n",
       "      <td>20.200001</td>\n",
       "      <td>57988400</td>\n",
       "      <td>0.0</td>\n",
       "      <td>0.0</td>\n",
       "    </tr>\n",
       "    <tr>\n",
       "      <th>11288</th>\n",
       "      <td>2024-12-24 00:00:00-05:00</td>\n",
       "      <td>20.219999</td>\n",
       "      <td>20.400000</td>\n",
       "      <td>19.959999</td>\n",
       "      <td>20.400000</td>\n",
       "      <td>29884000</td>\n",
       "      <td>0.0</td>\n",
       "      <td>0.0</td>\n",
       "    </tr>\n",
       "  </tbody>\n",
       "</table>\n",
       "</div>"
      ],
      "text/plain": [
       "                            Date       Open       High        Low      Close  \\\n",
       "11284  2024-12-18 00:00:00-05:00  20.480000  20.580000  19.209999  19.299999   \n",
       "11285  2024-12-19 00:00:00-05:00  19.530001  19.690001  19.030001  19.059999   \n",
       "11286  2024-12-20 00:00:00-05:00  18.969999  19.760000  18.900000  19.520000   \n",
       "11287  2024-12-23 00:00:00-05:00  19.580000  20.230000  19.520000  20.200001   \n",
       "11288  2024-12-24 00:00:00-05:00  20.219999  20.400000  19.959999  20.400000   \n",
       "\n",
       "          Volume  Dividends  Stock Splits  \n",
       "11284   86041200        0.0           0.0  \n",
       "11285   69117800        0.0           0.0  \n",
       "11286  108453700        0.0           0.0  \n",
       "11287   57988400        0.0           0.0  \n",
       "11288   29884000        0.0           0.0  "
      ]
     },
     "execution_count": 9,
     "metadata": {},
     "output_type": "execute_result"
    }
   ],
   "source": [
    "data.tail()"
   ]
  },
  {
   "cell_type": "code",
   "execution_count": null,
   "id": "9959d11d-d483-472b-9681-02fdc2775427",
   "metadata": {},
   "outputs": [],
   "source": [
    "#4)what function is used to fill missing (null) values...?"
   ]
  },
  {
   "cell_type": "code",
   "execution_count": 59,
   "id": "c804c680-a2f7-4754-8006-0eb6f36f8838",
   "metadata": {},
   "outputs": [],
   "source": [
    "data=data.fillna(name)"
   ]
  },
  {
   "cell_type": "code",
   "execution_count": null,
   "id": "76ddf909-a70a-4a0d-81a1-0781493b8243",
   "metadata": {},
   "outputs": [],
   "source": [
    "#5)write python ode to caculate median...?"
   ]
  },
  {
   "cell_type": "code",
   "execution_count": 27,
   "id": "cdaea82a-0bce-4288-a862-22a3673524d0",
   "metadata": {},
   "outputs": [
    {
     "data": {
      "text/plain": [
       "<bound method Series.median of 0         0.184404\n",
       "1         0.182952\n",
       "2         0.187308\n",
       "3         0.186581\n",
       "4         0.180048\n",
       "           ...    \n",
       "11284    20.580000\n",
       "11285    19.690001\n",
       "11286    19.760000\n",
       "11287    20.230000\n",
       "11288    20.400000\n",
       "Name: High, Length: 11289, dtype: float64>"
      ]
     },
     "execution_count": 27,
     "metadata": {},
     "output_type": "execute_result"
    }
   ],
   "source": [
    "data [\"High\"].median"
   ]
  },
  {
   "cell_type": "code",
   "execution_count": null,
   "id": "eb32ef08-7716-49b6-967f-ac2fc4c20080",
   "metadata": {},
   "outputs": [],
   "source": [
    "#6)write code to calculate mean...?"
   ]
  },
  {
   "cell_type": "code",
   "execution_count": 23,
   "id": "11c7d43f-00e4-4cb3-a30e-657bb5324056",
   "metadata": {},
   "outputs": [
    {
     "data": {
      "text/plain": [
       "15.18589170801116"
      ]
     },
     "execution_count": 23,
     "metadata": {},
     "output_type": "execute_result"
    }
   ],
   "source": [
    "data [\"High\"].mean()"
   ]
  },
  {
   "cell_type": "code",
   "execution_count": null,
   "id": "ad34f757-e673-43cc-8df2-f9e80a0962df",
   "metadata": {},
   "outputs": [],
   "source": [
    "#7)how do u drop all rows duplicate...?"
   ]
  },
  {
   "cell_type": "code",
   "execution_count": 39,
   "id": "d4b910af-93a9-4ef6-a07d-8e16e4bee73c",
   "metadata": {},
   "outputs": [],
   "source": [
    "data=data.drop_duplicates((\"High\"))"
   ]
  },
  {
   "cell_type": "code",
   "execution_count": null,
   "id": "deb1809f-b6de-4353-b6f4-085ab2eaa377",
   "metadata": {},
   "outputs": [],
   "source": [
    "#8)what is key difference...?"
   ]
  },
  {
   "cell_type": "code",
   "execution_count": 71,
   "id": "1a441396-e6f7-41bf-bd2b-c20fb7c772a5",
   "metadata": {},
   "outputs": [
    {
     "name": "stdout",
     "output_type": "stream",
     "text": [
      "[1, 2, 3, 2, 3, 4]\n"
     ]
    }
   ],
   "source": [
    "list1=[1,2,3]\n",
    "list2=[2,3,4]\n",
    "list=list1+list2\n",
    "print(list)"
   ]
  },
  {
   "cell_type": "code",
   "execution_count": 75,
   "id": "9c1004da-734f-4f08-9c77-6b5e9bdf6bd9",
   "metadata": {},
   "outputs": [
    {
     "name": "stdout",
     "output_type": "stream",
     "text": [
      "[1, 2, 3, 2, 3, 4]\n"
     ]
    }
   ],
   "source": [
    "arr=np.array([[1,3],[2,7]\n",
    "sum_arr=np.sum(arr\n",
    "print(array)"
   ]
  },
  {
   "cell_type": "code",
   "execution_count": null,
   "id": "0c594ce4-5159-4ca6-a588-977ed4e77174",
   "metadata": {},
   "outputs": [],
   "source": [
    "#9)how do you check nmber of rows and column in dataframes...?"
   ]
  },
  {
   "cell_type": "code",
   "execution_count": 43,
   "id": "938c5468-8595-4334-905e-1b3f34a64aa0",
   "metadata": {},
   "outputs": [
    {
     "data": {
      "text/plain": [
       "(9923, 8)"
      ]
     },
     "execution_count": 43,
     "metadata": {},
     "output_type": "execute_result"
    }
   ],
   "source": [
    "data.shape"
   ]
  },
  {
   "cell_type": "code",
   "execution_count": null,
   "id": "2ccf46a6-48ee-4598-a317-243947dca7ca",
   "metadata": {},
   "outputs": [],
   "source": [
    "#10)what functin is used to identify missing (null)values in data frames...?"
   ]
  },
  {
   "cell_type": "code",
   "execution_count": 45,
   "id": "e447ebec-dfd0-4fe5-9085-97465f2c7042",
   "metadata": {},
   "outputs": [
    {
     "data": {
      "text/html": [
       "<div>\n",
       "<style scoped>\n",
       "    .dataframe tbody tr th:only-of-type {\n",
       "        vertical-align: middle;\n",
       "    }\n",
       "\n",
       "    .dataframe tbody tr th {\n",
       "        vertical-align: top;\n",
       "    }\n",
       "\n",
       "    .dataframe thead th {\n",
       "        text-align: right;\n",
       "    }\n",
       "</style>\n",
       "<table border=\"1\" class=\"dataframe\">\n",
       "  <thead>\n",
       "    <tr style=\"text-align: right;\">\n",
       "      <th></th>\n",
       "      <th>Date</th>\n",
       "      <th>Open</th>\n",
       "      <th>High</th>\n",
       "      <th>Low</th>\n",
       "      <th>Close</th>\n",
       "      <th>Volume</th>\n",
       "      <th>Dividends</th>\n",
       "      <th>Stock Splits</th>\n",
       "    </tr>\n",
       "  </thead>\n",
       "  <tbody>\n",
       "    <tr>\n",
       "      <th>0</th>\n",
       "      <td>False</td>\n",
       "      <td>False</td>\n",
       "      <td>False</td>\n",
       "      <td>False</td>\n",
       "      <td>False</td>\n",
       "      <td>False</td>\n",
       "      <td>False</td>\n",
       "      <td>False</td>\n",
       "    </tr>\n",
       "    <tr>\n",
       "      <th>1</th>\n",
       "      <td>False</td>\n",
       "      <td>False</td>\n",
       "      <td>False</td>\n",
       "      <td>False</td>\n",
       "      <td>False</td>\n",
       "      <td>False</td>\n",
       "      <td>False</td>\n",
       "      <td>False</td>\n",
       "    </tr>\n",
       "    <tr>\n",
       "      <th>2</th>\n",
       "      <td>False</td>\n",
       "      <td>False</td>\n",
       "      <td>False</td>\n",
       "      <td>False</td>\n",
       "      <td>False</td>\n",
       "      <td>False</td>\n",
       "      <td>False</td>\n",
       "      <td>False</td>\n",
       "    </tr>\n",
       "    <tr>\n",
       "      <th>3</th>\n",
       "      <td>False</td>\n",
       "      <td>False</td>\n",
       "      <td>False</td>\n",
       "      <td>False</td>\n",
       "      <td>False</td>\n",
       "      <td>False</td>\n",
       "      <td>False</td>\n",
       "      <td>False</td>\n",
       "    </tr>\n",
       "    <tr>\n",
       "      <th>4</th>\n",
       "      <td>False</td>\n",
       "      <td>False</td>\n",
       "      <td>False</td>\n",
       "      <td>False</td>\n",
       "      <td>False</td>\n",
       "      <td>False</td>\n",
       "      <td>False</td>\n",
       "      <td>False</td>\n",
       "    </tr>\n",
       "    <tr>\n",
       "      <th>...</th>\n",
       "      <td>...</td>\n",
       "      <td>...</td>\n",
       "      <td>...</td>\n",
       "      <td>...</td>\n",
       "      <td>...</td>\n",
       "      <td>...</td>\n",
       "      <td>...</td>\n",
       "      <td>...</td>\n",
       "    </tr>\n",
       "    <tr>\n",
       "      <th>11283</th>\n",
       "      <td>False</td>\n",
       "      <td>False</td>\n",
       "      <td>False</td>\n",
       "      <td>False</td>\n",
       "      <td>False</td>\n",
       "      <td>False</td>\n",
       "      <td>False</td>\n",
       "      <td>False</td>\n",
       "    </tr>\n",
       "    <tr>\n",
       "      <th>11284</th>\n",
       "      <td>False</td>\n",
       "      <td>False</td>\n",
       "      <td>False</td>\n",
       "      <td>False</td>\n",
       "      <td>False</td>\n",
       "      <td>False</td>\n",
       "      <td>False</td>\n",
       "      <td>False</td>\n",
       "    </tr>\n",
       "    <tr>\n",
       "      <th>11286</th>\n",
       "      <td>False</td>\n",
       "      <td>False</td>\n",
       "      <td>False</td>\n",
       "      <td>False</td>\n",
       "      <td>False</td>\n",
       "      <td>False</td>\n",
       "      <td>False</td>\n",
       "      <td>False</td>\n",
       "    </tr>\n",
       "    <tr>\n",
       "      <th>11287</th>\n",
       "      <td>False</td>\n",
       "      <td>False</td>\n",
       "      <td>False</td>\n",
       "      <td>False</td>\n",
       "      <td>False</td>\n",
       "      <td>False</td>\n",
       "      <td>False</td>\n",
       "      <td>False</td>\n",
       "    </tr>\n",
       "    <tr>\n",
       "      <th>11288</th>\n",
       "      <td>False</td>\n",
       "      <td>False</td>\n",
       "      <td>False</td>\n",
       "      <td>False</td>\n",
       "      <td>False</td>\n",
       "      <td>False</td>\n",
       "      <td>False</td>\n",
       "      <td>False</td>\n",
       "    </tr>\n",
       "  </tbody>\n",
       "</table>\n",
       "<p>9923 rows × 8 columns</p>\n",
       "</div>"
      ],
      "text/plain": [
       "        Date   Open   High    Low  Close  Volume  Dividends  Stock Splits\n",
       "0      False  False  False  False  False   False      False         False\n",
       "1      False  False  False  False  False   False      False         False\n",
       "2      False  False  False  False  False   False      False         False\n",
       "3      False  False  False  False  False   False      False         False\n",
       "4      False  False  False  False  False   False      False         False\n",
       "...      ...    ...    ...    ...    ...     ...        ...           ...\n",
       "11283  False  False  False  False  False   False      False         False\n",
       "11284  False  False  False  False  False   False      False         False\n",
       "11286  False  False  False  False  False   False      False         False\n",
       "11287  False  False  False  False  False   False      False         False\n",
       "11288  False  False  False  False  False   False      False         False\n",
       "\n",
       "[9923 rows x 8 columns]"
      ]
     },
     "execution_count": 45,
     "metadata": {},
     "output_type": "execute_result"
    }
   ],
   "source": [
    "data.isnull()"
   ]
  },
  {
   "cell_type": "code",
   "execution_count": null,
   "id": "2c536fcb-32ba-4486-be15-7eb30a7b0b47",
   "metadata": {},
   "outputs": [],
   "source": [
    "#11)how do you count total no of null values in dataframes...?"
   ]
  },
  {
   "cell_type": "code",
   "execution_count": 49,
   "id": "d5dc5fda-fb93-4a56-927b-ba1016c96d6f",
   "metadata": {},
   "outputs": [
    {
     "data": {
      "text/plain": [
       "0"
      ]
     },
     "execution_count": 49,
     "metadata": {},
     "output_type": "execute_result"
    }
   ],
   "source": [
    "data.duplicated().sum()"
   ]
  },
  {
   "cell_type": "code",
   "execution_count": null,
   "id": "289544ad-a79a-4354-9673-da9e6b48949e",
   "metadata": {},
   "outputs": [],
   "source": [
    "#12)write method find duplicate rows in data frames ...?"
   ]
  },
  {
   "cell_type": "code",
   "execution_count": 47,
   "id": "1d6ce6b7-9192-4118-b551-1b0fbaf04028",
   "metadata": {},
   "outputs": [
    {
     "data": {
      "text/plain": [
       "0        False\n",
       "1        False\n",
       "2        False\n",
       "3        False\n",
       "4        False\n",
       "         ...  \n",
       "11283    False\n",
       "11284    False\n",
       "11286    False\n",
       "11287    False\n",
       "11288    False\n",
       "Length: 9923, dtype: bool"
      ]
     },
     "execution_count": 47,
     "metadata": {},
     "output_type": "execute_result"
    }
   ],
   "source": [
    "data.duplicated()"
   ]
  },
  {
   "cell_type": "code",
   "execution_count": null,
   "id": "e3e31419-5eef-4704-94db-7cdcad9dfa6a",
   "metadata": {},
   "outputs": [],
   "source": []
  }
 ],
 "metadata": {
  "kernelspec": {
   "display_name": "Python [conda env:base] *",
   "language": "python",
   "name": "conda-base-py"
  },
  "language_info": {
   "codemirror_mode": {
    "name": "ipython",
    "version": 3
   },
   "file_extension": ".py",
   "mimetype": "text/x-python",
   "name": "python",
   "nbconvert_exporter": "python",
   "pygments_lexer": "ipython3",
   "version": "3.12.7"
  }
 },
 "nbformat": 4,
 "nbformat_minor": 5
}
