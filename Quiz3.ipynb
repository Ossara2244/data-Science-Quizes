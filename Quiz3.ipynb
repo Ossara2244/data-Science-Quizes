{
 "cells": [
  {
   "cell_type": "code",
   "execution_count": null,
   "id": "5e8a4d2a-442e-4d16-a03a-a50a56fa151c",
   "metadata": {},
   "outputs": [],
   "source": [
    "1)What is Python, and why is it widely used in data science?\n",
    ".python is high level programing language it is widely used by data scientist.\n",
    "python has built in libraraies, these built in mtahmatical libraries make easier to solve or calculate mathamatical problems."
   ]
  },
  {
   "cell_type": "code",
   "execution_count": null,
   "id": "0bb66a9c-3a9a-4ebf-be80-9869bac37e4f",
   "metadata": {},
   "outputs": [],
   "source": [
    "2)Explain the difference between a variable and a constant in Python.\n",
    "variable: their values can be changed and updated.\n",
    "constant: their values cannot be changed and updataed."
   ]
  },
  {
   "cell_type": "code",
   "execution_count": null,
   "id": "7cb32f32-8731-45c9-89bf-50aceb82aa87",
   "metadata": {},
   "outputs": [],
   "source": [
    "3)How do you create a Python dictionary, and how is it different from a list?\n",
    "To create a Python dictionary, you use curly braces {} and define key-value pairs. Each key is separated from its value by a colon :\n",
    "and pairs are separated by commas, \n",
    "for example:\n",
    "my_dict = {\"name\": \"osara\", \"age\": 25, \"city\": \"rawalakot\"}\n",
    ".list is an ordered collection of items, whereas a dictionary is an unordered data collection.\n",
    ".Elements from the list can be accessed using the index, while the elements of the dictionary can be accessed using keys."
   ]
  },
  {
   "cell_type": "code",
   "execution_count": null,
   "id": "11faebe8-6a54-4dd3-9fdc-6680265e1fa0",
   "metadata": {},
   "outputs": [],
   "source": [
    "4)What are Python tuples, and when would you use them over lists?\n",
    ".A Python tuple is an ordered collection of items, similar to a list, but its elements cannot be changed after creation.\n",
    "Tuples are created using parentheses () or simply by separating items with commas, like (1, 2, 3) or 1, 2, 3.\n",
    ".we use touple over lists when data should not be changed, \n",
    ".we use touple over lists when we should access data faster. as touples are quicker than lists.\n",
    ".touple provide safety for important data as it help to avoid accidental changes in important data."
   ]
  },
  {
   "cell_type": "code",
   "execution_count": null,
   "id": "a13b0aa3-fdf1-489c-b7a2-ebe56ec91ada",
   "metadata": {},
   "outputs": [],
   "source": [
    "5)Write a Python function that takes two numbers as arguments and returns their sum?"
   ]
  },
  {
   "cell_type": "code",
   "execution_count": 17,
   "id": "4f3698a6-76a3-4252-8f6e-1eb28ffe7d59",
   "metadata": {},
   "outputs": [
    {
     "name": "stdout",
     "output_type": "stream",
     "text": [
      "30\n"
     ]
    }
   ],
   "source": [
    "import pandas as np\n",
    "import numpy as np\n",
    "def add_numbers(a, b):\n",
    "    return a + b  \n",
    "result = add_numbers(10, 20)\n",
    "print(result)\n",
    "\n"
   ]
  },
  {
   "cell_type": "code",
   "execution_count": null,
   "id": "acaa7037-bcd2-4609-8ecf-b22408cae499",
   "metadata": {},
   "outputs": [],
   "source": [
    "6)Explain the difference between axis 0 and axis 1 in NumPy.\n",
    "In NumPy, axis 0 and axis 1 are used to specify the direction of operations.\n",
    "Axis 0: Refers to the vertical axis such as rows.\n",
    "Axis 1: Refers to the horizontal axis such as columns."
   ]
  },
  {
   "cell_type": "code",
   "execution_count": null,
   "id": "4830cec1-ae4f-459a-bdc8-55b30d2d4ad7",
   "metadata": {},
   "outputs": [],
   "source": [
    "7)What are some common aggregation functions in NumPy (e.g., sum, mean)? \n",
    "Provide examples.\n",
    "some common aggregation functions in NumPy:\n",
    "np.sum()\n",
    "np.mean()\n",
    "np.min()\n",
    "np.max()"
   ]
  },
  {
   "cell_type": "code",
   "execution_count": 25,
   "id": "df0ee521-dae1-4678-9a9d-7e3df7ad7cba",
   "metadata": {},
   "outputs": [
    {
     "name": "stdout",
     "output_type": "stream",
     "text": [
      "total sum,: 10\n",
      "(axis 0): [4 6]\n",
      "(axis 1): [3 7]\n"
     ]
    }
   ],
   "source": [
    "import pandas as np\n",
    "import numpy as np\n",
    "arr = np.array([[1, 2], [3, 4]])\n",
    "total_sum = np.sum(arr)\n",
    "print(\"total sum,:\", total_sum)\n",
    "sum_axis_0 = np.sum(arr, axis=0)\n",
    "print(\"(axis 0):\", sum_axis_0)\n",
    "sum_axis_1 = np.sum(arr, axis=1)\n",
    "print(\"(axis 1):\", sum_axis_1)\n"
   ]
  },
  {
   "cell_type": "code",
   "execution_count": 27,
   "id": "8b74815b-7285-4d53-860b-5398f170b7ef",
   "metadata": {},
   "outputs": [
    {
     "name": "stdout",
     "output_type": "stream",
     "text": [
      "total mean: 2.5\n",
      "(axis 0): [2. 3.]\n",
      "(axis 1): [1.5 3.5]\n"
     ]
    }
   ],
   "source": [
    "import pandas as pd\n",
    "import numpy as np\n",
    "arr = np.array([[1, 2], [3, 4]])\n",
    "mean_all = np.mean(arr)\n",
    "print(\"total mean:\", mean_all)\n",
    "mean_axis_0 = np.mean(arr, axis=0)\n",
    "print(\"(axis 0):\", mean_axis_0)\n",
    "mean_axis_1 = np.mean(arr, axis=1)\n",
    "print(\"(axis 1):\", mean_axis_1)\n"
   ]
  },
  {
   "cell_type": "code",
   "execution_count": null,
   "id": "4a31113b-c598-4fe3-94fe-8fd73dc7b177",
   "metadata": {},
   "outputs": [],
   "source": [
    "9)How do you create a Pandas DataFrame from a dictionary?"
   ]
  },
  {
   "cell_type": "code",
   "execution_count": 29,
   "id": "8bca81dc-577c-4796-bd4f-237e9fc1ec15",
   "metadata": {},
   "outputs": [
    {
     "name": "stdout",
     "output_type": "stream",
     "text": [
      "     Name  Age       City\n",
      "0  ossara   25  rawalakot\n",
      "1    zuha   30    tarnoti\n",
      "2    iqra   35    kharick\n"
     ]
    }
   ],
   "source": [
    "import pandas as pd\n",
    "import numpy as np\n",
    "data = { 'Name': ['ossara', 'zuha', 'iqra'],\n",
    "    'Age': [25, 30, 35],\n",
    "    'City': ['rawalakot', 'tarnoti', 'kharick']\n",
    "}\n",
    "df = pd.DataFrame(data)\n",
    "print(df)\n"
   ]
  },
  {
   "cell_type": "code",
   "execution_count": null,
   "id": "9c7b81dc-e2b6-4c05-af85-7e73cd055df2",
   "metadata": {},
   "outputs": [],
   "source": [
    "10)What are the key differences between a Pandas Series and a Pandas DataFrame?\n",
    ".Series: One-dimensional (single column of data).\n",
    ".Holds data of a single type.\n",
    ".DataFrame: Two-dimensional (rows and columns of data).\n",
    ".Holds data of a single type.\n",
    "\n"
   ]
  },
  {
   "cell_type": "code",
   "execution_count": null,
   "id": "4e2f9e36-a9fb-4314-b085-f910534ceb6c",
   "metadata": {},
   "outputs": [],
   "source": [
    "11)How do you display the first five rows of a Pandas DataFrame?\n",
    ".To display the first five rows of a Pandas DataFrame, you use the head() method."
   ]
  },
  {
   "cell_type": "code",
   "execution_count": null,
   "id": "af20fdfc-b657-42e7-9100-7d29d165b7fb",
   "metadata": {},
   "outputs": [],
   "source": [
    "12)How can you rename the columns of a Pandas DataFrame?\n",
    ".You can rename the columns of a Pandas DataFrame using the rename() method"
   ]
  },
  {
   "cell_type": "code",
   "execution_count": 1,
   "id": "bdeef8b0-813c-47d9-a416-d8f483740778",
   "metadata": {},
   "outputs": [
    {
     "name": "stdout",
     "output_type": "stream",
     "text": [
      "  Full Name  Years       City\n",
      "0    ossara     25  rawalakot\n",
      "1      zuha     30    tarnoti\n"
     ]
    }
   ],
   "source": [
    "import pandas as pd\n",
    "import numpy as np\n",
    "data = {'Name': ['ossara', 'zuha'], \n",
    "        'Age': [25, 30], \n",
    "        'City': ['rawalakot', 'tarnoti']}\n",
    "df = pd.DataFrame(data)\n",
    "df = df.rename(columns={'Name': 'Full Name', 'Age': 'Years'})\n",
    "print(df)\n"
   ]
  },
  {
   "cell_type": "code",
   "execution_count": null,
   "id": "f5073a6f-5ee1-4e48-b4cf-4ef26fe5728d",
   "metadata": {},
   "outputs": [],
   "source": [
    "13)What is the difference between the loc and iloc indexers in Pandas? Provide \n",
    "examples.\n",
    ".loc: It is label-based, so it uses row/column names.\n",
    "loc includes both the start and end in slices.\n",
    ".iloc: It is position-based.\n",
    "iloc includes the start but excludes the end in slices."
   ]
  },
  {
   "cell_type": "code",
   "execution_count": 13,
   "id": "345d59ab-f345-47b6-a200-1647dba16494",
   "metadata": {},
   "outputs": [
    {
     "name": "stdout",
     "output_type": "stream",
     "text": [
      "     Name  Age        City\n",
      "0  ossara   25   rawalakot\n",
      "1    zuha   30     kashmir\n",
      "2    iqra   35  rawalpindi\n",
      "   Name  Age        City\n",
      "1  zuha   30     kashmir\n",
      "2  iqra   35  rawalpindi\n"
     ]
    }
   ],
   "source": [
    "import pandas as pd\n",
    "import numpy as np\n",
    "data ={'Name': ['ossara', 'zuha', 'iqra'],\n",
    "    'Age': [25, 30, 35],\n",
    "    'City': ['rawalakot', 'kashmir', 'rawalpindi']}\n",
    "df = pd.DataFrame(data)\n",
    "print(df)\n",
    "rows =df.loc[1:2]\n",
    "print(rows)\n",
    "\n"
   ]
  },
  {
   "cell_type": "code",
   "execution_count": 11,
   "id": "5fc7ef43-a20f-4bb3-8dfd-56c5fba81d18",
   "metadata": {},
   "outputs": [
    {
     "name": "stdout",
     "output_type": "stream",
     "text": [
      "     Name  Age        City\n",
      "0  ossara   25   rawalakot\n",
      "1    zuha   30     kashmir\n",
      "2    iqra   35  rawalpindi\n",
      "   Name  Age     City\n",
      "1  zuha   30  kashmir\n"
     ]
    }
   ],
   "source": [
    "import pandas as pd\n",
    "import numpy as np\n",
    "data = {\n",
    "    'Name': ['ossara', 'zuha', 'iqra'],\n",
    "    'Age': [25, 30, 35],\n",
    "    'City': ['rawalakot', 'kashmir', 'rawalpindi']\n",
    "}\n",
    "df = pd.DataFrame(data)\n",
    "print(df)\n",
    "rows = df.iloc[1:2]\n",
    "print(rows)\n"
   ]
  },
  {
   "cell_type": "code",
   "execution_count": null,
   "id": "be231c60-dbb6-4243-a42a-1f50c230474c",
   "metadata": {},
   "outputs": [],
   "source": [
    "14)4.How do you filter rows in a DataFrame based on a condition (e.g., select rows where \n",
    "a column is greater than a specific value)?"
   ]
  },
  {
   "cell_type": "code",
   "execution_count": 17,
   "id": "063f5071-aa1c-470a-b82d-5e2bdc737d94",
   "metadata": {},
   "outputs": [
    {
     "name": "stdout",
     "output_type": "stream",
     "text": [
      "    Name  Age      City\n",
      "2   iqra   35   kharick\n",
      "3  rubab   40  banjoosa\n"
     ]
    }
   ],
   "source": [
    "import pandas as pd\n",
    "import numpy as np\n",
    "data = {\n",
    "    'Name': ['ossara', 'zuha', 'iqra', 'rubab'],\n",
    "    'Age': [25, 30, 35, 40],\n",
    "    'City': ['rawalakot', 'tarnoti', 'kharick', 'banjoosa']\n",
    "}\n",
    "df = pd.DataFrame(data)\n",
    "filtered_df = df[df['Age'] > 30]\n",
    "print(filtered_df)\n"
   ]
  },
  {
   "cell_type": "code",
   "execution_count": null,
   "id": "fd6e8a32-6ecb-42b7-9859-b7472071ba02",
   "metadata": {},
   "outputs": [],
   "source": [
    "15)How do you calculate the sum of values in a specific column of a Pandas \n",
    "DataFrame?"
   ]
  },
  {
   "cell_type": "code",
   "execution_count": 21,
   "id": "fda3d3c0-1f14-4b5b-aee9-4af081781a38",
   "metadata": {},
   "outputs": [
    {
     "name": "stdout",
     "output_type": "stream",
     "text": [
      "15\n"
     ]
    }
   ],
   "source": [
    "import pandas as pd\n",
    "import numpy as np\n",
    "data = {'A': [1, 2, 3], 'B': [4, 5, 6]}\n",
    "df = pd.DataFrame(data)\n",
    "sum_A = df['B'].sum()\n",
    "print(sum_A)\n"
   ]
  },
  {
   "cell_type": "code",
   "execution_count": null,
   "id": "33a32809-775e-4a8a-a670-242138c4f55f",
   "metadata": {},
   "outputs": [],
   "source": [
    "16)Explain how the groupby() function works in Pandas. Provide an example use case.\n",
    ".The groupby() function in Pandas is used to split a DataFrame into groups based on some criteria,perform operations on those groups,\n",
    "and then combine the results back into a DataFrame."
   ]
  },
  {
   "cell_type": "code",
   "execution_count": 23,
   "id": "1864fa36-be4e-4829-8dea-f2608d42aa39",
   "metadata": {},
   "outputs": [
    {
     "name": "stdout",
     "output_type": "stream",
     "text": [
      "Region\n",
      "East     425\n",
      "North    300\n",
      "West     450\n",
      "Name: Sales, dtype: int64\n"
     ]
    }
   ],
   "source": [
    "import pandas as pd\n",
    "import numpy as np\n",
    "data = {'Region': ['East', 'West', 'East', 'West', 'North', 'East'],\n",
    "      'Sales': [100, 200, 150, 250, 300, 175]}\n",
    "df = pd.DataFrame(data)\n",
    "grouped = df.groupby('Region')['Sales'].sum()\n",
    "print(grouped)\n"
   ]
  },
  {
   "cell_type": "code",
   "execution_count": null,
   "id": "e880c7cb-cbe7-46fb-b9ea-a454adaff720",
   "metadata": {},
   "outputs": [],
   "source": [
    "17)How do you handle missing data (NaN) in a Pandas DataFrame?"
   ]
  },
  {
   "cell_type": "code",
   "execution_count": 39,
   "id": "1a36bfa4-7014-4e23-99cc-d67d5a8265de",
   "metadata": {},
   "outputs": [
    {
     "name": "stdout",
     "output_type": "stream",
     "text": [
      "Original DataFrame:\n",
      "    Name   Age       City\n",
      "0  osara  25.0  rawalakot\n",
      "1   zuha   NaN    tarnoti\n",
      "2   iqra  30.0    kharick\n",
      "3  aliza  22.0   banjoosa\n",
      "4   None  28.0       None\n",
      "\n",
      "DataFrame after dropping rows with NaN values:\n",
      "    Name   Age       City\n",
      "0  osara  25.0  rawalakot\n",
      "2   iqra  30.0    kharick\n",
      "3  aliza  22.0   banjoosa\n"
     ]
    }
   ],
   "source": [
    "import pandas as pd\n",
    "import numpy as np\n",
    "data = {\n",
    "    'Name': ['osara', 'zuha', 'iqra', 'aliza', None],\n",
    "    'Age': [25, None, 30, 22, 28],\n",
    "   'City': ['rawalakot', 'tarnoti', 'kharick', 'banjoosa', None]}\n",
    "df = pd.DataFrame(data)\n",
    "print(\"Original DataFrame:\")\n",
    "print(df)\n",
    "df_dropna = df.dropna()\n",
    "print(\"\\nDataFrame after dropping rows with NaN values:\")\n",
    "print(df_dropna)\n",
    "\n",
    "\n",
    "\n"
   ]
  },
  {
   "cell_type": "code",
   "execution_count": null,
   "id": "8b3b8053-8f94-4bbd-9bd8-48be1654ddce",
   "metadata": {},
   "outputs": [],
   "source": [
    "18)What is the purpose of the merge() function in Pandas? How does it differ from concat()?\n",
    ".merge(): Combines DataFrames based on common columns or indexes.\n",
    "merge requires specifying columns to merge on (on, left_on, right_on).\n",
    ".concat(): Stacks DataFrames along a specified axis (rows or columns).\n",
    "concat(): Requires specifying the axis (axis=0 for rows, axis=1 for columns).\n"
   ]
  },
  {
   "cell_type": "code",
   "execution_count": null,
   "id": "14930e73-15ef-4c5b-8349-9d33b605b56f",
   "metadata": {},
   "outputs": [],
   "source": [
    "19)How do you sort a Pandas DataFrame by a specific column?\n",
    ".To sort a Pandas DataFrame by a specific column, you can use the sort_values() function. This allows you to sort the DataFrame either in \n",
    "ascending or descending order.\n"
   ]
  },
  {
   "cell_type": "code",
   "execution_count": 49,
   "id": "684ed8b9-3b60-4051-a744-5378d22e807d",
   "metadata": {},
   "outputs": [
    {
     "name": "stdout",
     "output_type": "stream",
     "text": [
      "    Name  Age\n",
      "2   iqra   22\n",
      "0  osara   25\n",
      "3  rubab   28\n",
      "1   zuha   30\n",
      "    Name  Age\n",
      "1   zuha   30\n",
      "3  rubab   28\n",
      "0  osara   25\n",
      "2   iqra   22\n"
     ]
    }
   ],
   "source": [
    "import pandas as pd\n",
    "import numpy as np\n",
    "data = {'Name': ['osara', 'zuha', 'iqra', 'rubab'],\n",
    "    'Age': [25, 30, 22, 28]\n",
    "}\n",
    "df = pd.DataFrame(data)\n",
    "sorted_df_asc = df.sort_values(by='Name', ascending=True)\n",
    "print(sorted_df_asc)\n",
    "sorted_df_desc = df.sort_values(by='Age', ascending=False)\n",
    "print(sorted_df_desc)\n"
   ]
  },
  {
   "cell_type": "code",
   "execution_count": null,
   "id": "7a1d0c09-10c4-42c6-af1a-de89f972023f",
   "metadata": {},
   "outputs": [],
   "source": [
    "20).Create a Pandas DataFrame with sample data (e.g., student names and marks) and save it as a CSV file\n"
   ]
  },
  {
   "cell_type": "code",
   "execution_count": 3,
   "id": "8a388dad-9484-4704-b4ee-e436d1daca75",
   "metadata": {},
   "outputs": [
    {
     "name": "stdout",
     "output_type": "stream",
     "text": [
      "created successfully.\n"
     ]
    }
   ],
   "source": [
    "import pandas as pd\n",
    "import numpy as np\n",
    "data = {\n",
    "    'Student': ['osara', 'zuha', 'iqra', 'alya', 'aliza'],\n",
    "    'Marks': [85, 90, 78, 88, 92]\n",
    "}\n",
    "df = pd.DataFrame(data)\n",
    "# Saving the DataFrame to a CSV file\n",
    "df.to_csv('students.csv', index=False)\n",
    "\n",
    "print(\"created successfully.\")\n"
   ]
  },
  {
   "cell_type": "code",
   "execution_count": null,
   "id": "39f8c8d5-af72-44b7-b5fa-f9b5b6aa820b",
   "metadata": {},
   "outputs": [],
   "source": []
  }
 ],
 "metadata": {
  "kernelspec": {
   "display_name": "Python [conda env:base] *",
   "language": "python",
   "name": "conda-base-py"
  },
  "language_info": {
   "codemirror_mode": {
    "name": "ipython",
    "version": 3
   },
   "file_extension": ".py",
   "mimetype": "text/x-python",
   "name": "python",
   "nbconvert_exporter": "python",
   "pygments_lexer": "ipython3",
   "version": "3.12.7"
  }
 },
 "nbformat": 4,
 "nbformat_minor": 5
}
