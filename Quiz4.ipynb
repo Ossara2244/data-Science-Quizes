{
 "cells": [
  {
   "cell_type": "code",
   "execution_count": null,
   "id": "433d1527-f138-4179-b1c4-8e2960994da4",
   "metadata": {},
   "outputs": [],
   "source": [
    "1) What is machine learning?\n",
    "Machine learning in AI means computers learn from data and make decisions like humans. Instead of following fixed rules"
   ]
  },
  {
   "cell_type": "code",
   "execution_count": null,
   "id": "b75f51e6-959f-4df8-84a5-ea12843571f4",
   "metadata": {},
   "outputs": [],
   "source": [
    "2)What are the three main types of machine learning? \n",
    "i)Supervised Learning\n",
    "ii)Unsupervised Learning\n",
    "iii)Reinforcement Learning"
   ]
  },
  {
   "cell_type": "code",
   "execution_count": null,
   "id": "d71cd621-e65f-4fb0-9388-4b8c3f636bb3",
   "metadata": {},
   "outputs": [],
   "source": [
    "3)Define supervised learning and provide an example.\n",
    "The model learns from labeled data, where each input has a known correct output. \n",
    "It makes predictions and improves by comparing results with actual answers.\n",
    "Example: image recognition, email\n",
    "\n",
    "4) Define unsupervised learning and provide an example. \n",
    "The model finds patterns in unlabeled data without specific instructions. \n",
    "Example: Shopping websites\n",
    "\n",
    "5) What is reinforcement learning? \n",
    "The computer learns by trial and error, getting rewards for good actions and improving over time.\n",
    "Examnple: self-driving cars, game-playing AI, and robotic automation.\n"
   ]
  },
  {
   "cell_type": "code",
   "execution_count": null,
   "id": "1167381d-23f7-44cc-8f85-b3afbfe71981",
   "metadata": {},
   "outputs": [],
   "source": [
    "6) What is the difference between classification and regression?\n",
    "Classification predicts categories, while regression predicts continuous values (e.g., price of a house).\n",
    "\n",
    "7)What is overfitting in machine learning? \n",
    "Overfitting happens when a model learns too much from the training data.\n",
    "\n",
    "8) What is underfitting in machine learning?\n",
    " Underfitting happens when a model is too simple and cannot capture important patterns in the data."
   ]
  },
  {
   "cell_type": "code",
   "execution_count": null,
   "id": "cac6b47e-f64e-4589-84fe-4e4099c7fd8e",
   "metadata": {},
   "outputs": [],
   "source": [
    "9) What is a feature in machine learning? \n",
    "Feature: An individual measurable property of the data used for analysis.\n",
    "For example, in predicting house prices, features might include the number of bedrooms,or location.\n",
    "\n",
    "10) What is a label in supervised learning? \n",
    "The label is output or target variable that the model aims to predict.\n",
    "label is also known as dependent variable or output variable.\n",
    "\n",
    "11) Name one common algorithm used for classification tasks. \n",
    "Logistic Regression\n",
    "\n",
    "12) Name one common algorithm used for regression tasks?\n",
    "Linear Regression\n",
    "\n",
    "13) What is the purpose of the k-means clustering algorithm?\n",
    "identify patteerns\n",
    "simplify analysis\n"
   ]
  },
  {
   "cell_type": "code",
   "execution_count": null,
   "id": "d54cd5a8-cc8e-483d-90d8-ee8bf2a64530",
   "metadata": {},
   "outputs": [],
   "source": [
    "1) What is NumPy, and what is its primary use case?\n",
    "NumPy is an open-source Python library that provides support for large, multi-dimensional arrays ,aLso used to perform mathamatical operations.\n",
    "\n",
    "2) How do you create a NumPy array from a Python list? \n",
    "You can create a NumPy array from a Python list using the numpy.array() function.\n"
   ]
  },
  {
   "cell_type": "code",
   "execution_count": 3,
   "id": "c49536a5-9388-43e5-82c5-ad27ff6e7000",
   "metadata": {},
   "outputs": [
    {
     "name": "stdout",
     "output_type": "stream",
     "text": [
      "[1 2 3 4 5]\n"
     ]
    }
   ],
   "source": [
    "import numpy as np\n",
    "import pandas as pd\n",
    "# Python list\n",
    "python_list = [1, 2, 3, 4, 5]\n",
    "\n",
    "# Convert to NumPy array\n",
    "numpy_array = np.array(python_list)\n",
    "\n",
    "print(numpy_array)"
   ]
  },
  {
   "cell_type": "code",
   "execution_count": null,
   "id": "e99c4671-5901-46ac-861d-8375805aa732",
   "metadata": {},
   "outputs": [],
   "source": [
    "3)What is the difference between a Python list and a NumPy array?\n",
    "in python lists can hold data of differnent data types\n",
    "while\n",
    "numpay arrays can hold data of same data type"
   ]
  },
  {
   "cell_type": "code",
   "execution_count": null,
   "id": "75ca32f6-c6e8-47ce-9a72-7a789fd20224",
   "metadata": {},
   "outputs": [],
   "source": [
    "4) How do you create a 2D array (matrix) in NumPy? \n"
   ]
  },
  {
   "cell_type": "code",
   "execution_count": 17,
   "id": "eb9a4868-13da-4491-8b60-fa1eb9c08abb",
   "metadata": {},
   "outputs": [
    {
     "name": "stdout",
     "output_type": "stream",
     "text": [
      "[[ 1  2  3  4]\n",
      " [ 5  6  7  8]\n",
      " [ 9 10 11 12]]\n"
     ]
    }
   ],
   "source": [
    "import numpy as np\n",
    "import pandas as pd\n",
    "# Create a 2D array (3 rows, 4 columns)\n",
    "matrix = np.array([[1, 2, 3, 4],\n",
    "                   [5, 6, 7, 8],\n",
    "                   [9, 10, 11, 12]])\n",
    "\n",
    "print(matrix)\n"
   ]
  },
  {
   "cell_type": "code",
   "execution_count": null,
   "id": "cc44e629-dc0e-4fbb-bf31-bd261070c883",
   "metadata": {},
   "outputs": [],
   "source": [
    "5) What is the purpose of the np.arange() function? \n",
    "The np.arange() function in NumPy is used to create arrays within a specified range.  \n",
    "This function is useful for creating arrays with specific patterns. \n"
   ]
  },
  {
   "cell_type": "code",
   "execution_count": null,
   "id": "01607e06-44f4-410a-9aa6-bd930bbc4096",
   "metadata": {},
   "outputs": [],
   "source": [
    "6) How do you find the shape of a NumPy array? \n",
    "You can find the shape of a NumPy array using the .shape attribute.\n"
   ]
  },
  {
   "cell_type": "code",
   "execution_count": 19,
   "id": "565865e8-5e92-4151-85bc-0e82ceb34ff7",
   "metadata": {},
   "outputs": [
    {
     "name": "stdout",
     "output_type": "stream",
     "text": [
      "(3, 4)\n"
     ]
    }
   ],
   "source": [
    "import numpy as np\n",
    "import pandas as pd\n",
    "# Create 2D array (3 rows, 4 columns)\n",
    "matrix = np.array([[1, 2, 3, 4],\n",
    "                   [5, 6, 7, 8],\n",
    "                   [9, 10, 11, 12]])\n",
    "\n",
    "# Getshape of the array\n",
    "shape = matrix.shape\n",
    "\n",
    "print(shape)\n"
   ]
  },
  {
   "cell_type": "code",
   "execution_count": null,
   "id": "006e785e-4c1c-4430-97a7-19d09d2267cd",
   "metadata": {},
   "outputs": [],
   "source": [
    "7) What does the np.reshape() function do? \n",
    "The np.reshape() function in NumPy is used to change the shape of an existing array without changing its data."
   ]
  },
  {
   "cell_type": "code",
   "execution_count": 21,
   "id": "727507b7-7e7f-4471-aaf2-b0923dafa84d",
   "metadata": {},
   "outputs": [
    {
     "name": "stdout",
     "output_type": "stream",
     "text": [
      "[[ 1  2  3  4]\n",
      " [ 5  6  7  8]\n",
      " [ 9 10 11 12]]\n"
     ]
    }
   ],
   "source": [
    "import numpy as np\n",
    "import pandas as pd\n",
    "\n",
    "# Create a 1D array with 12 elements\n",
    "array = np.arange(1, 13)\n",
    "\n",
    "# Reshape it into a 2D array (3 rows, 4 columns)\n",
    "reshaped_array = array.reshape((3, 4))\n",
    "\n",
    "print(reshaped_array)\n"
   ]
  },
  {
   "cell_type": "code",
   "execution_count": null,
   "id": "a6a44afc-7bce-416d-b02a-9790edfe2754",
   "metadata": {},
   "outputs": [],
   "source": [
    "8) How do you perform element-wise addition of two NumPy arrays?\n",
    "To perform element-wise addition of two NumPy arrays, you can use either the + operator or the np.add() function. "
   ]
  },
  {
   "cell_type": "code",
   "execution_count": 27,
   "id": "d0580f72-c705-42c3-b3c1-016c5b47f659",
   "metadata": {},
   "outputs": [
    {
     "name": "stdout",
     "output_type": "stream",
     "text": [
      "[5 7 9]\n"
     ]
    }
   ],
   "source": [
    "#METHOD 1:\n",
    "import numpy as np\n",
    "import pandas as pd\n",
    "array1 = np.array([1, 2, 3])\n",
    "array2 = np.array([4, 5, 6])\n",
    "result = array1 + array2\n",
    "print(result)\n"
   ]
  },
  {
   "cell_type": "code",
   "execution_count": 29,
   "id": "c93d7ab2-8178-4979-8c41-560b287fe1a6",
   "metadata": {},
   "outputs": [
    {
     "name": "stdout",
     "output_type": "stream",
     "text": [
      "[5 7 9]\n"
     ]
    }
   ],
   "source": [
    "#METHOD 2:\n",
    "import numpy as np\n",
    "import pandas as pd\n",
    "array1 = np.array([1, 2, 3])\n",
    "array2 = np.array([4, 5, 6])\n",
    "result = np.add(array1, array2)\n",
    "print(result)\n"
   ]
  },
  {
   "cell_type": "code",
   "execution_count": null,
   "id": "e3faa231-e106-48bf-b0ba-17fb636f3c56",
   "metadata": {},
   "outputs": [],
   "source": [
    "9)What is broadcasting in NumPy? \n",
    "Broadcasting in NumPy refers to the ability to perform element-wise operations on arrays of different shapes.\n"
   ]
  },
  {
   "cell_type": "code",
   "execution_count": null,
   "id": "1ea7e03b-34ec-4227-91ae-e8cf3b1ce000",
   "metadata": {},
   "outputs": [],
   "source": [
    "10)How do you calculate the mean of a NumPy array?\n",
    "You can calculate the mean of a NumPy array using the .mean() method or the np.mean() function."
   ]
  },
  {
   "cell_type": "code",
   "execution_count": 31,
   "id": "6a3a0a08-9463-4d56-83d3-c841a0e32dc6",
   "metadata": {},
   "outputs": [
    {
     "name": "stdout",
     "output_type": "stream",
     "text": [
      "3.0\n"
     ]
    }
   ],
   "source": [
    "#METHOD 1:\n",
    "import numpy as np\n",
    "import pandas as pd\n",
    "array = np.array([1, 2, 3, 4, 5])\n",
    "mean_value = array.mean()\n",
    "print(mean_value)\n",
    "\n"
   ]
  },
  {
   "cell_type": "code",
   "execution_count": 33,
   "id": "8627e7e6-3776-426e-934c-96e4dcbce07c",
   "metadata": {},
   "outputs": [
    {
     "name": "stdout",
     "output_type": "stream",
     "text": [
      "3.0\n"
     ]
    }
   ],
   "source": [
    "#METHOD 2:\n",
    "import numpy as np\n",
    "import pandas as pd\n",
    "array = np.array([1, 2, 3, 4, 5])\n",
    "# Alternatively, calculate the mean using np.mean()\n",
    "mean_value = np.mean(array)\n",
    "print(mean_value)\n"
   ]
  },
  {
   "cell_type": "code",
   "execution_count": null,
   "id": "7213b216-2a47-489f-8e31-47b60f5a04d4",
   "metadata": {},
   "outputs": [],
   "source": [
    "1. What is Pandas, and what is its primary use case? \n",
    "Pandas is an open-source Python library designed for data manipulation and analysis.\n",
    "such as Series and DataFrame, which are essential for handling structured data."
   ]
  },
  {
   "cell_type": "code",
   "execution_count": null,
   "id": "0918bf51-0395-4815-9d1a-4a210d49f4ba",
   "metadata": {},
   "outputs": [],
   "source": [
    "2. How do you create a Pandas DataFrame from a dictionary? \n",
    "You can create a Pandas DataFrame from a dictionary using the pd.DataFrame() constructor. "
   ]
  },
  {
   "cell_type": "code",
   "execution_count": 35,
   "id": "cffb3b53-bb4d-4cb3-81ad-31bd1570284b",
   "metadata": {},
   "outputs": [
    {
     "name": "stdout",
     "output_type": "stream",
     "text": [
      "    Name  Age       City\n",
      "0  osara   25  rawalakot\n",
      "1   zuha   30    tarnoti\n",
      "2   iqra   35    kharick\n"
     ]
    }
   ],
   "source": [
    "import pandas as pd\n",
    "import numpy as np\n",
    "data = {'Name': ['osara', 'zuha', 'iqra'],\n",
    "        'Age': [25, 30, 35],\n",
    "        'City': ['rawalakot', 'tarnoti', 'kharick']}\n",
    "df = pd.DataFrame(data)\n",
    "\n",
    "print(df)\n"
   ]
  },
  {
   "cell_type": "code",
   "execution_count": null,
   "id": "3b4e7e12-d58f-426f-ae0c-579c2d5ad7ab",
   "metadata": {},
   "outputs": [],
   "source": [
    "3. What is the difference between a Pandas Series and a DataFrame? \n",
    "A Pandas Series is a one-dimensional labeled array(resemble to python lists) capable of holding any data type.\n",
    "A DataFrame,on the other hand, is a two-dimensional labeled data structure with multiple rows and columns (like a Table)"
   ]
  },
  {
   "cell_type": "code",
   "execution_count": null,
   "id": "0f7bf46a-c34e-4269-a8de-efabaf578efa",
   "metadata": {},
   "outputs": [],
   "source": [
    " 4. How do you read a CSV file into a Pandas DataFrame? \n",
    "You can read a CSV file into a Pandas DataFrame by using the pd.read_csv() function.\n",
    "\n",
    "import pandas as pd\n",
    "import numpy as np\n",
    "# Read a CSV file into a DataFrame\n",
    "df = pd.read_csv('path_to_file.csv')\n",
    "print(df)\n",
    "\n"
   ]
  },
  {
   "cell_type": "code",
   "execution_count": null,
   "id": "5c629ac3-896b-4f55-9045-6406354f7af9",
   "metadata": {},
   "outputs": [],
   "source": [
    " 5. How do you select a specific column from a DataFrame?\n",
    "You can select a specific column from a DataFrame by using the column label inside square brackets"
   ]
  },
  {
   "cell_type": "code",
   "execution_count": 3,
   "id": "f0e41ef7-6122-4c31-9d47-f224ead74f6f",
   "metadata": {},
   "outputs": [
    {
     "name": "stdout",
     "output_type": "stream",
     "text": [
      "0    25\n",
      "1    30\n",
      "2    35\n",
      "Name: Age, dtype: int64\n",
      "0    rawalakot\n",
      "1      tarnoti\n",
      "2      channar\n",
      "Name: City, dtype: object\n"
     ]
    }
   ],
   "source": [
    "import pandas as pd\n",
    "import numpy as np\n",
    "data = {'Name': ['osara', 'zuha', 'alya'],\n",
    "        'Age': [25, 30, 35],\n",
    "        'City': ['rawalakot', 'tarnoti', 'channar']}\n",
    "df = pd.DataFrame(data)\n",
    "# Select a column by label\n",
    "age_column = df['Age']\n",
    "# Alternatively, select a column as an attribute\n",
    "city_column = df.City\n",
    "print(age_column)\n",
    "print(city_column)\n"
   ]
  },
  {
   "cell_type": "code",
   "execution_count": null,
   "id": "5315a837-6cb9-4e43-b442-7f1242d51600",
   "metadata": {},
   "outputs": [],
   "source": [
    "6. What is the purpose of the df.head() function? \n",
    "The df.head() function in Pandas returns the first five rows of a DataFrame by default. "
   ]
  },
  {
   "cell_type": "code",
   "execution_count": null,
   "id": "d901e19c-d46e-4f78-801b-4f61104dc092",
   "metadata": {},
   "outputs": [],
   "source": [
    "7. How do you filter rows in a DataFrame based on a condition? \n",
    "To filter rows based on a condition, use boolean indexing. \n",
    "For example, to select rows where the 'Age' column is greater than 30\n",
    "filtered_df = df[df['Age'] > 30]"
   ]
  },
  {
   "cell_type": "code",
   "execution_count": null,
   "id": "fd8a78d8-dafe-4e5a-8455-c743a76ce607",
   "metadata": {},
   "outputs": [],
   "source": [
    "8. What is the difference between df.loc[] and df.iloc[]? \n",
    "df.loc[] is label-based and is used to access rows and columns by their labels or boolean arrays.\n",
    "df.iloc[] is integer position-based and is used to access rows and columns by their integer positions."
   ]
  },
  {
   "cell_type": "code",
   "execution_count": null,
   "id": "c1df4baf-fd82-4bda-acea-d1435be17ef4",
   "metadata": {},
   "outputs": [],
   "source": [
    "9. How do you handle missing values in a Pandas DataFrame? \n",
    "Pandas provides methods to handle missing values:\n",
    "df.dropna() removes rows or columns with missing values.\n",
    "df.fillna(value) replaces missing values with a specified value."
   ]
  },
  {
   "cell_type": "code",
   "execution_count": null,
   "id": "a3984cef-2b1b-4247-93a5-baeab54f2976",
   "metadata": {},
   "outputs": [],
   "source": [
    "10. How do you group data in a DataFrame using groupby()?\n",
    "The groupby() function in Pandas is used to group data based on one or more columns.\n",
    "After grouping, you can apply aggregate functions like sum(), mean(), or count() to each group.\n",
    "example:\n",
    "grouped = df.groupby('Category')\n",
    "result = grouped['Value'].sum()"
   ]
  },
  {
   "cell_type": "code",
   "execution_count": null,
   "id": "55b24031-8a52-4b49-9a54-864b40f40a8b",
   "metadata": {},
   "outputs": [],
   "source": [
    "1. What is Matplotlib, and what is its primary use case? \n",
    "Matplot is a python libray used for generating plots,graphs and figure to visualize data in various formats."
   ]
  },
  {
   "cell_type": "code",
   "execution_count": null,
   "id": "75af7408-1d78-4d6a-90ab-4ae98c9bb607",
   "metadata": {},
   "outputs": [],
   "source": [
    "2. How do you create a simple line plot using Matplotlib?"
   ]
  },
  {
   "cell_type": "code",
   "execution_count": 5,
   "id": "fcaad23c-c3ee-4218-ad52-a66f240e42f7",
   "metadata": {},
   "outputs": [
    {
     "data": {
      "image/png": "[encoded data removed]",
      "text/plain": [
       "<Figure size 640x480 with 1 Axes>"
      ]
     },
     "metadata": {},
     "output_type": "display_data"
    }
   ],
   "source": [
    "import pandas as pd\n",
    "import numpy as np\n",
    "import matplotlib.pyplot as plt\n",
    "x = [1, 2, 3, 4]\n",
    "y = [10, 20, 25, 30]\n",
    "plt.plot(x, y)\n",
    "plt.show()\n"
   ]
  },
  {
   "cell_type": "code",
   "execution_count": null,
   "id": "d4e2478e-0597-4570-beba-f9f362824bf7",
   "metadata": {},
   "outputs": [],
   "source": [
    "3. What is the difference between plt.plot() and plt.scatter()? \n",
    "plt.plot(): Creates a line plot connecting data points with lines.\n",
    "plt.scatter(): Creates a scatter plot displaying individual data points without connecting lines."
   ]
  },
  {
   "cell_type": "code",
   "execution_count": null,
   "id": "6aedc2d5-1f3e-4c55-918f-001168ee73ed",
   "metadata": {},
   "outputs": [],
   "source": [
    "4. How do you add labels to the x-axis and y-axis of a plot? \n",
    "By using plt.xlabel() and plt.ylabel() we add label the axes:\n",
    "for example:\n",
    "plt.xlabel('X-axis Label')\n",
    "plt.ylabel('Y-axis Label')"
   ]
  },
  {
   "cell_type": "code",
   "execution_count": null,
   "id": "666716e5-0a00-4c16-838e-095dd49b6f3b",
   "metadata": {},
   "outputs": [],
   "source": [
    "5. How do you add a title to a Matplotlib plot? \n",
    "Use plt.title() to add a title:\n",
    "for example:\n",
    "plt.title('Your Plot Title')"
   ]
  },
  {
   "cell_type": "code",
   "execution_count": null,
   "id": "0f98a016-08dd-486d-996f-b7a5a11f0ffb",
   "metadata": {},
   "outputs": [],
   "source": [
    "6. What is the purpose of the plt.legend() function? \n",
    "plt.legend() adds a legend to the plot, which helps to identify different plotted data series.\n",
    "It is specially used when multiple datasets are displayed in a single plot. "
   ]
  },
  {
   "cell_type": "code",
   "execution_count": null,
   "id": "d1b05cc1-fa7a-411b-ad66-c4d8b0ff6cab",
   "metadata": {},
   "outputs": [],
   "source": [
    "7. How do you create a bar chart using Matplotlib? "
   ]
  },
  {
   "cell_type": "code",
   "execution_count": 7,
   "id": "e020ee74-7482-48e5-9a00-05686aa2654b",
   "metadata": {},
   "outputs": [
    {
     "data": {
      "image/png": "[encoded data removed]",
      "text/plain": [
       "<Figure size 640x480 with 1 Axes>"
      ]
     },
     "metadata": {},
     "output_type": "display_data"
    }
   ],
   "source": [
    "import pandas as pd\n",
    "import numpy as np\n",
    "import matplotlib.pyplot as plt\n",
    "categories = ['A', 'B', 'C']\n",
    "values = [25, 40, 35]\n",
    "plt.bar(categories, values)\n",
    "plt.show()\n"
   ]
  },
  {
   "cell_type": "code",
   "execution_count": null,
   "id": "f55d85f6-5155-46f1-add5-8187e847de5c",
   "metadata": {},
   "outputs": [],
   "source": [
    "8. How do you save a plot as an image file using Matplotlib? \n",
    "to save a plot as an image file Use plt.savefig() before plt.show()\n",
    "for example:\n",
    "plt.savefig('plot.png')\n",
    "plt.show()"
   ]
  },
  {
   "cell_type": "code",
   "execution_count": null,
   "id": "13e590b9-38ef-42bd-bc01-5242cba883cd",
   "metadata": {},
   "outputs": [],
   "source": [
    "9. What is the difference between plt.figure() and plt.subplot()? \n",
    "plt.figure(): Creates a new figure, which can contain one or more plots.\n",
    "plt.subplot(): Add a subplot to the current figure.\n",
    " \n"
   ]
  },
  {
   "cell_type": "code",
   "execution_count": null,
   "id": "6b7c1b80-eb89-4e0f-9378-86c26a5c689d",
   "metadata": {},
   "outputs": [],
   "source": [
    "10. How do you create a histogram using Matplotlib?"
   ]
  },
  {
   "cell_type": "code",
   "execution_count": 9,
   "id": "da950b89-cc55-42e3-929c-be6f9041b720",
   "metadata": {},
   "outputs": [
    {
     "data": {
      "image/png": "[encoded data removed]",
      "text/plain": [
       "<Figure size 640x480 with 1 Axes>"
      ]
     },
     "metadata": {},
     "output_type": "display_data"
    }
   ],
   "source": [
    "import pandas as pd\n",
    "import numpy as np\n",
    "import matplotlib.pyplot as plt\n",
    "data = [1, 2, 2, 3, 3, 3, 4, 4, 4, 4]\n",
    "# to Create histogram\n",
    "plt.hist(data, bins=4)\n",
    "# to Display \n",
    "plt.show()\n"
   ]
  },
  {
   "cell_type": "code",
   "execution_count": null,
   "id": "4f744c7e-caf5-4563-8197-530c78473d06",
   "metadata": {},
   "outputs": [],
   "source": [
    "1. What is Seaborn, and how does it differ from Matplotlib? \n",
    "Seaborn is a Python data visualization library.It provides a high-level interface for drawing attractive and\n",
    "informative statistical graphics with less code and comes with aesthetically pleasing default styles.\n",
    "                             While\n",
    "Matplotlib offers extensive customization options."
   ]
  },
  {
   "cell_type": "code",
   "execution_count": null,
   "id": "040688d5-ae35-4b23-baff-3cab2c919804",
   "metadata": {},
   "outputs": [],
   "source": [
    "2. How do you create a scatter plot using Seaborn? \n"
   ]
  },
  {
   "cell_type": "code",
   "execution_count": null,
   "id": "be40a469-1e4f-46eb-8b25-4d99d14f4720",
   "metadata": {},
   "outputs": [],
   "source": [
    "import seaborn as sns\n",
    "import matplotlib.pyplot as plt\n",
    "data = sns.load_dataset('iris')\n",
    "sns.scatterplot(data=data, x='sepal_length', y='sepal_width')\n",
    "plt.show()\n"
   ]
  },
  {
   "cell_type": "code",
   "execution_count": null,
   "id": "39092ee1-ace7-4caf-9e67-726234660e69",
   "metadata": {},
   "outputs": [],
   "source": [
    "import seaborn as sns\n",
    "import matplotlib.pyplot as plt\n",
    "data = sns.load_dataset('iris')\n",
    "sns.scatterplot(data=data, x='sepal_length', y='sepal_width')\n",
    "plt.show()\n"
   ]
  },
  {
   "cell_type": "code",
   "execution_count": null,
   "id": "3f6b2618-99d3-495c-a568-3fba8c624242",
   "metadata": {},
   "outputs": [],
   "source": [
    "3. What is the purpose of the sns.set() function? \n",
    "The sns.set() function initializes Seaborns default themes and color palettes,"
   ]
  },
  {
   "cell_type": "code",
   "execution_count": null,
   "id": "96e0126c-7283-45b6-9725-94ddeb55e9d0",
   "metadata": {},
   "outputs": [],
   "source": [
    "4. How do you create a histogram using Seaborn? "
   ]
  },
  {
   "cell_type": "code",
   "execution_count": null,
   "id": "50bd51ac-b4d6-45f6-9ed8-f7d14a38fa27",
   "metadata": {},
   "outputs": [],
   "source": [
    "import seaborn as sns\n",
    "import matplotlib.pyplot as plt\n",
    "data = sns.load_dataset('iris')\n",
    "sns.histplot(data['sepal_length'], bins=10, kde=False)\n",
    "plt.show()\n"
   ]
  },
  {
   "cell_type": "code",
   "execution_count": null,
   "id": "5173024b-5aab-490e-80ae-848e8bce2c8d",
   "metadata": {},
   "outputs": [],
   "source": [
    "5. What is the difference between sns.histplot() and sns.kdeplot()? \n",
    "sns.histplot(): Plots a histogram, showing the frequency distribution of a dataset.\n",
    "we use sns.histplot() for discrete frequency distributions.\n",
    "sns.kdeplot(): Plots a Kernel Density Estimate, representing the data probability density function as a smooth curve.\n",
    "we use sns.kdeplot() for continuous probability density visualizations."
   ]
  },
  {
   "cell_type": "code",
   "execution_count": null,
   "id": "acc4846f-e303-4297-814c-8515ff665bb5",
   "metadata": {},
   "outputs": [],
   "source": [
    "6. How do you create a heatmap using Seaborn? \n"
   ]
  },
  {
   "cell_type": "code",
   "execution_count": null,
   "id": "0e095d25-916f-4303-b3c1-f66de5566ddb",
   "metadata": {},
   "outputs": [],
   "source": [
    "import seaborn as sns\n",
    "import matplotlib.pyplot as plt\n",
    "data = sns.load_dataset('flights')\n",
    "pivot_table = data.pivot('month', 'year', 'passengers')\n",
    "sns.heatmap(pivot_table, cmap='YlGnBu')\n",
    "plt.show()\n"
   ]
  },
  {
   "cell_type": "code",
   "execution_count": null,
   "id": "901e5dff-7591-4a67-a1c9-717d9e247183",
   "metadata": {},
   "outputs": [],
   "source": [
    "7. What is the purpose of the sns.pairplot() function? \n",
    "The sns.pairplot() function creates a matrix of scatter plots for all numerical pairwise combinations in a dataset. \n",
    "It is useful for exploring relationships between variables and visualizing distributions."
   ]
  },
  {
   "cell_type": "code",
   "execution_count": null,
   "id": "2ee18eee-e0ca-40b3-b0e9-f7cfe9c87800",
   "metadata": {},
   "outputs": [],
   "source": [
    "8. How do you add a regression line to a scatter plot in Seaborn? \n",
    "Use the sns.lmplot() function to add a regression line:\n"
   ]
  },
  {
   "cell_type": "code",
   "execution_count": null,
   "id": "9ecc6801-b847-4c93-9010-0fe258f7f617",
   "metadata": {},
   "outputs": [],
   "source": [
    "import seaborn as sns\n",
    "import matplotlib.pyplot as plt\n",
    "# Sample data\n",
    "data = sns.load_dataset('iris')\n",
    "# Create scatter plot with regression line\n",
    "sns.lmplot(data=data, x='sepal_length', y='sepal_width')\n",
    "plt.show()"
   ]
  },
  {
   "cell_type": "code",
   "execution_count": null,
   "id": "ddb29428-7c28-4f3c-a5c3-53b3c8ade4a8",
   "metadata": {},
   "outputs": [],
   "source": [
    "9. How do you change the theme or style of a Seaborn plot? \n",
    "Change the theme using sns.set_style():\n",
    "import seaborn as sns\n",
    "# Set theme\n",
    "sns.set_style('whitegrid')"
   ]
  },
  {
   "cell_type": "code",
   "execution_count": null,
   "id": "6b4fb19d-23f5-4637-934c-eeef736a12c3",
   "metadata": {},
   "outputs": [],
   "source": [
    "10. How do you create a box plot using Seaborn?"
   ]
  },
  {
   "cell_type": "code",
   "execution_count": null,
   "id": "217609cd-a640-4170-8375-08ec5cfd4021",
   "metadata": {},
   "outputs": [],
   "source": [
    "import seaborn as sns\n",
    "import matplotlib.pyplot as plt\n",
    "# Sample data\n",
    "data = sns.load_dataset('iris')\n",
    "# Create box plot\n",
    "sns.boxplot(data=data, x='species', y='sepal_length')\n",
    "plt.show()\n"
   ]
  },
  {
   "cell_type": "code",
   "execution_count": null,
   "id": "8bc67782-7bba-4efe-bf8b-cc4346354dd2",
   "metadata": {},
   "outputs": [],
   "source": [
    "1. What is the purpose of the random library in Python? \n",
    "The random module in Python provides functions to generate pseudo-random numbers and perform random operations."
   ]
  },
  {
   "cell_type": "code",
   "execution_count": null,
   "id": "38a7fad1-4f7a-4073-8807-57a8b6a04d1e",
   "metadata": {},
   "outputs": [],
   "source": [
    "2. How do you generate a random integer between 1 and 100 using the random library? \n",
    "Use random.randint(1, 100) to generate a random integer between 1 and 100,"
   ]
  },
  {
   "cell_type": "code",
   "execution_count": null,
   "id": "afa49da0-4ad1-4e0f-b949-ec9ed61e4da2",
   "metadata": {},
   "outputs": [],
   "source": [
    "3. What is the difference between random.randint() and random.randrange()? \n",
    "random.randint(a, b) returns a random integer N such that a <= N <= b.\n",
    "random.randrange(start, stop[, step]) returns a randomly selected element from the range created by the arguments, similar to range(start, stop, step). "
   ]
  },
  {
   "cell_type": "code",
   "execution_count": null,
   "id": "37f730d7-ecef-4f3f-adc1-e67ae86ae90a",
   "metadata": {},
   "outputs": [],
   "source": [
    "4. How do you generate a random floating-point number between 0 and 1? \n",
    "Use random.random() to generate a random float in the range [0.0, 1.0)."
   ]
  },
  {
   "cell_type": "code",
   "execution_count": null,
   "id": "7d1f0f02-2ed1-4231-9247-7aad2944b9da",
   "metadata": {},
   "outputs": [],
   "source": [
    "5. How do you shuffle a list in place using the random library? \n",
    "Use random.shuffle(list_name) to shuffle the elements of list_name in place. "
   ]
  },
  {
   "cell_type": "code",
   "execution_count": null,
   "id": "eb480c5b-39fe-40b8-ba90-ebb65280364b",
   "metadata": {},
   "outputs": [],
   "source": [
    "6. What is the purpose of the random.seed() function? \n",
    "The random.seed(a=None) function initializes the random number generator with a seed value a. \n",
    "Providing the same seed value will produce the same sequence of random numbers, which is useful for reproducibility. "
   ]
  },
  {
   "cell_type": "code",
   "execution_count": null,
   "id": "1f2f5381-6f7a-47c9-ac01-c92278ca8536",
   "metadata": {},
   "outputs": [],
   "source": [
    "7. How do you randomly select an element from a list? \n",
    "Use random.choice(sequence) to select a random element from a non-empty sequence like a list."
   ]
  },
  {
   "cell_type": "code",
   "execution_count": null,
   "id": "c7aafa50-6913-4fc7-8b7a-3cd66e24ee23",
   "metadata": {},
   "outputs": [],
   "source": [
    "8. How do you generate a random sample of 5 elements from a list? \n",
    "Use random.sample(population, k) to select k unique elements from the population sequence. \n",
    "For example, random.sample(my_list, 5) returns a list of 5 unique elements from my_list. "
   ]
  },
  {
   "cell_type": "code",
   "execution_count": null,
   "id": "429ff4e5-16dc-4f83-b773-6e9f388be9e4",
   "metadata": {},
   "outputs": [],
   "source": [
    "9. What is the difference between random.choice() and random.choices()? \n",
    "random.choice(sequence) returns a single random element from the sequence.\n",
    "random.choices(population, k=1) returns a list of k elements chosen from the population with replacement, \n",
    "allowing the same element to be selected multiple times. \n"
   ]
  },
  {
   "cell_type": "code",
   "execution_count": null,
   "id": "7db9f519-887f-496c-a9d6-6ebb3ca337ad",
   "metadata": {},
   "outputs": [],
   "source": [
    "10. How do you generate a random number from a normal distribution using the random library?\n",
    "Use random.gauss(mu, sigma) to generate a random float from a Gaussian distribution with mean mu and standard deviation sigma."
   ]
  }
 ],
 "metadata": {
  "kernelspec": {
   "display_name": "Python [conda env:base] *",
   "language": "python",
   "name": "conda-base-py"
  },
  "language_info": {
   "codemirror_mode": {
    "name": "ipython",
    "version": 3
   },
   "file_extension": ".py",
   "mimetype": "text/x-python",
   "name": "python",
   "nbconvert_exporter": "python",
   "pygments_lexer": "ipython3",
   "version": "3.12.7"
  }
 },
 "nbformat": 4,
 "nbformat_minor": 5
}
