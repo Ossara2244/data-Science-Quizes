{
 "cells": [
  {
   "cell_type": "code",
   "execution_count": null,
   "id": "8c98b789-9b86-451d-8c25-c1164a4fcd94",
   "metadata": {},
   "outputs": [],
   "source": [
    "1)what is numpy? why it is important for data base?\n",
    ".numpy is python library use for numerical operation.\n",
    ".It is important for databases because it enables quick data processing and important for handling large datasets efficiently."
   ]
  },
  {
   "cell_type": "code",
   "execution_count": null,
   "id": "bb862c86-005b-475a-a81a-36875f414f96",
   "metadata": {},
   "outputs": [],
   "source": [
    "2)differnce between python lists and numpy arrays?\n",
    ".python lists store multiple type of data\n",
    ".numpy arrays store only one type of data"
   ]
  },
  {
   "cell_type": "code",
   "execution_count": null,
   "id": "a40eb56f-fee4-4c44-89f0-2d710d5df32d",
   "metadata": {},
   "outputs": [],
   "source": [
    "3)how do we create a numpy array of zeros with a specific shape?"
   ]
  },
  {
   "cell_type": "code",
   "execution_count": 11,
   "id": "b6264520-4f07-477e-bb72-aa92936c4ac3",
   "metadata": {},
   "outputs": [
    {
     "name": "stdout",
     "output_type": "stream",
     "text": [
      "[[0. 0. 0. 0.]\n",
      " [0. 0. 0. 0.]\n",
      " [0. 0. 0. 0.]]\n"
     ]
    }
   ],
   "source": [
    "import numpy as np\n",
    "array = np.zeros((3, 4))\n",
    "print(array)\n"
   ]
  },
  {
   "cell_type": "code",
   "execution_count": null,
   "id": "8e4b791f-57f1-45f4-8315-937ef54e37a0",
   "metadata": {},
   "outputs": [],
   "source": [
    "4) what are common data types in numpy arrays?\n",
    ". integer, float, Boolean, string, double"
   ]
  },
  {
   "cell_type": "code",
   "execution_count": null,
   "id": "f58d1d4a-86c0-4933-ba92-af4397099992",
   "metadata": {},
   "outputs": [],
   "source": [
    "5)how do you perform perform element-wise addition,substraction,multiplication and division in numpy array?"
   ]
  },
  {
   "cell_type": "code",
   "execution_count": 19,
   "id": "e3c3025e-e37e-4423-a501-23d7474bc470",
   "metadata": {},
   "outputs": [
    {
     "name": "stdout",
     "output_type": "stream",
     "text": [
      "[50 70 90] [-30 -30 -30] [ 400 1000 1800] [0.25 0.4  0.5 ]\n"
     ]
    }
   ],
   "source": [
    "import numpy as np\n",
    "array1 = np.array([10, 20, 30])\n",
    "array2 = np.array([40, 50, 60])\n",
    "addition = array1 + array2    \n",
    "subtraction = array1 - array2   \n",
    "multiplication = array1 * array2    \n",
    "division = array1 / array2         \n",
    "print(addition, \n",
    "      subtraction,\n",
    "      multiplication, \n",
    "      division)"
   ]
  },
  {
   "cell_type": "code",
   "execution_count": null,
   "id": "f7d9e31c-6bbd-4ad8-97dd-247b655c16d6",
   "metadata": {},
   "outputs": [],
   "source": [
    "6)explain concept of array slicing in numpy? \n",
    ".Slicing in NumPy is used to extracting range of data from specific portion."
   ]
  },
  {
   "cell_type": "code",
   "execution_count": 25,
   "id": "330054c1-a1f4-43c1-90b1-4321bf75c7e3",
   "metadata": {},
   "outputs": [
    {
     "name": "stdout",
     "output_type": "stream",
     "text": [
      "[20 30 40]\n"
     ]
    }
   ],
   "source": [
    "import numpy as np\n",
    "array = np.array([10, 20, 30, 40, 50])\n",
    "portion1 = array[1:4]              \n",
    "print(portion1)"
   ]
  },
  {
   "cell_type": "code",
   "execution_count": null,
   "id": "cbd3af38-229f-488b-979f-92ab483b5b2a",
   "metadata": {},
   "outputs": [],
   "source": [
    "7)how do you find mean, median and mode of a numpy array?\n",
    "Mean:The average of all numbers in a dataset.\n",
    "Median:The middle value in dataset\n",
    "Mode:The most repeated number in a dataset."
   ]
  },
  {
   "cell_type": "code",
   "execution_count": 37,
   "id": "c4667fee-5e83-4c49-8834-3013ea300e7b",
   "metadata": {},
   "outputs": [
    {
     "name": "stdout",
     "output_type": "stream",
     "text": [
      "4.6\n",
      "4.5\n",
      "ModeResult(mode=1, count=2)\n"
     ]
    }
   ],
   "source": [
    "import numpy as np\n",
    "from scipy import stats\n",
    "array = np.array([1, 2, 3, 4, 5, 6, 7, 8, 9,1])\n",
    "mean = np.mean(array)\n",
    "median = np.median(array)\n",
    "mode = stats.mode(array)\n",
    "print(mean)\n",
    "print(median)\n",
    "print(mode)"
   ]
  },
  {
   "cell_type": "code",
   "execution_count": null,
   "id": "4da1f2d1-f6cd-4283-9df5-9a3356bbb157",
   "metadata": {},
   "outputs": [],
   "source": [
    "8)what is broad coasting in numpy,and how does it work?\n",
    ".Broadcasting in NumPy refers to the ability to perform arithmetic operations on arrays of different shapes. "
   ]
  },
  {
   "cell_type": "code",
   "execution_count": null,
   "id": "fadf46f8-806b-48ae-b4d5-f5f2334e8edc",
   "metadata": {},
   "outputs": [],
   "source": [
    "9)whatis pandas , what are its key data structures?\n",
    ".pandas is python libraray \n",
    "It's key data structures are\n",
    ".Series:which is a single column of data\n",
    ".DataFrame:which is a table with rows and columns. "
   ]
  },
  {
   "cell_type": "code",
   "execution_count": null,
   "id": "ae73152a-6a70-4467-a0d4-016998c5aee3",
   "metadata": {},
   "outputs": [],
   "source": [
    "10)how do you import a data from csv file into pandas data frames?\n",
    "import pandas as pd\n",
    "import numpy as np\n",
    "data =pd.read_csv('filename.csv')"
   ]
  },
  {
   "cell_type": "code",
   "execution_count": null,
   "id": "f324bcff-65b4-4473-8208-487b3657349c",
   "metadata": {},
   "outputs": [],
   "source": [
    "11)how do you select specific rows or a column from data frames?"
   ]
  },
  {
   "cell_type": "code",
   "execution_count": 56,
   "id": "f088ae8e-ea7c-4037-a7d1-2a9f3ecc4206",
   "metadata": {},
   "outputs": [
    {
     "name": "stdout",
     "output_type": "stream",
     "text": [
      "     Name  Age        City\n",
      "0  ossara   25   rawalakot\n",
      "1    zuha   30     kashmir\n",
      "2    iqra   35  rawalpindi\n",
      "Name          iqra\n",
      "Age             35\n",
      "City    rawalpindi\n",
      "Name: 2, dtype: object\n"
     ]
    }
   ],
   "source": [
    "import pandas as pd\n",
    "import numpy as np\n",
    "data ={'Name': ['ossara', 'zuha', 'iqra'],\n",
    "    'Age': [25, 30, 35],\n",
    "    'City': ['rawalakot', 'kashmir', 'rawalpindi']}\n",
    "df = pd.DataFrame(data)\n",
    "print(df)\n",
    "rows =df.loc[2]\n",
    "print(rows)\n"
   ]
  },
  {
   "cell_type": "code",
   "execution_count": null,
   "id": "f6932879-c7f3-48c7-8538-b1e24fb0973f",
   "metadata": {},
   "outputs": [],
   "source": [
    "12)explain difference between lic and iloc in indexes in pandas?\n",
    ".loc is used to select rows or column by name. \n",
    ".iloc is used to select data by index position."
   ]
  },
  {
   "cell_type": "code",
   "execution_count": null,
   "id": "59083089-06fe-4e2e-b3cb-e68201582af9",
   "metadata": {},
   "outputs": [],
   "source": [
    "13)how do handle missing values (NaN) in dataframes?"
   ]
  },
  {
   "cell_type": "code",
   "execution_count": 7,
   "id": "34287f3f-88b6-453f-abc6-ab7bdc158c89",
   "metadata": {},
   "outputs": [
    {
     "name": "stdout",
     "output_type": "stream",
     "text": [
      "DataFrame 1:\n",
      "  emplId  Age\n",
      "0     e1   25\n",
      "1     e2   30\n",
      "2     e3   35\n",
      "DataFrame 2:\n",
      "  emplId  salary\n",
      "0     e1    2500\n",
      "1     e2    3000\n",
      "2     e3    3500\n"
     ]
    },
    {
     "data": {
      "text/html": [
       "<div>\n",
       "<style scoped>\n",
       "    .dataframe tbody tr th:only-of-type {\n",
       "        vertical-align: middle;\n",
       "    }\n",
       "\n",
       "    .dataframe tbody tr th {\n",
       "        vertical-align: top;\n",
       "    }\n",
       "\n",
       "    .dataframe thead th {\n",
       "        text-align: right;\n",
       "    }\n",
       "</style>\n",
       "<table border=\"1\" class=\"dataframe\">\n",
       "  <thead>\n",
       "    <tr style=\"text-align: right;\">\n",
       "      <th></th>\n",
       "      <th>emplId</th>\n",
       "      <th>Age</th>\n",
       "      <th>salary</th>\n",
       "    </tr>\n",
       "  </thead>\n",
       "  <tbody>\n",
       "    <tr>\n",
       "      <th>0</th>\n",
       "      <td>e1</td>\n",
       "      <td>25.0</td>\n",
       "      <td>NaN</td>\n",
       "    </tr>\n",
       "    <tr>\n",
       "      <th>1</th>\n",
       "      <td>e2</td>\n",
       "      <td>30.0</td>\n",
       "      <td>NaN</td>\n",
       "    </tr>\n",
       "    <tr>\n",
       "      <th>2</th>\n",
       "      <td>e3</td>\n",
       "      <td>35.0</td>\n",
       "      <td>NaN</td>\n",
       "    </tr>\n",
       "    <tr>\n",
       "      <th>0</th>\n",
       "      <td>e1</td>\n",
       "      <td>NaN</td>\n",
       "      <td>2500.0</td>\n",
       "    </tr>\n",
       "    <tr>\n",
       "      <th>1</th>\n",
       "      <td>e2</td>\n",
       "      <td>NaN</td>\n",
       "      <td>3000.0</td>\n",
       "    </tr>\n",
       "    <tr>\n",
       "      <th>2</th>\n",
       "      <td>e3</td>\n",
       "      <td>NaN</td>\n",
       "      <td>3500.0</td>\n",
       "    </tr>\n",
       "  </tbody>\n",
       "</table>\n",
       "</div>"
      ],
      "text/plain": [
       "  emplId   Age  salary\n",
       "0     e1  25.0     NaN\n",
       "1     e2  30.0     NaN\n",
       "2     e3  35.0     NaN\n",
       "0     e1   NaN  2500.0\n",
       "1     e2   NaN  3000.0\n",
       "2     e3   NaN  3500.0"
      ]
     },
     "execution_count": 7,
     "metadata": {},
     "output_type": "execute_result"
    }
   ],
   "source": [
    "import pandas as pd\n",
    "import numpy as np\n",
    "data1 ={'emplId': ['e1', 'e2', 'e3'],\n",
    "    'Age': [25, 30, 35]}\n",
    "data2 ={'emplId': ['e1', 'e2', 'e3'],\n",
    "    'salary': [2500, 3000, 3500]}\n",
    "\n",
    "df1=pd.DataFrame(data1)\n",
    "df2=pd.DataFrame(data2)\n",
    "print(\"DataFrame 1:\")\n",
    "print(df1)\n",
    "print(\"DataFrame 2:\")\n",
    "print(df2)\n",
    "pd.concat([df1,df2])\n"
   ]
  },
  {
   "cell_type": "markdown",
   "id": "d03925f2-8301-4b75-975a-d134ac08275a",
   "metadata": {},
   "source": [
    "14)how do you filter rows in dataframe based on condition?"
   ]
  },
  {
   "cell_type": "code",
   "execution_count": 13,
   "id": "1d2c700a-424c-4740-b09f-1839c8fb23a1",
   "metadata": {},
   "outputs": [
    {
     "name": "stdout",
     "output_type": "stream",
     "text": [
      "   Name  Age\n",
      "2  iqra   35\n"
     ]
    }
   ],
   "source": [
    "import pandas as pd\n",
    "import numpy as np\n",
    "# Sample DataFrame\n",
    "data = {'Name': ['ossara', 'zuha', 'iqra'],\n",
    "        'Age': [25, 30, 35]}\n",
    "df = pd.DataFrame(data)\n",
    "filtered_df = df[df['Age'] > 30]\n",
    "\n",
    "print(filtered_df)\n"
   ]
  },
  {
   "cell_type": "code",
   "execution_count": null,
   "id": "b8e4e523-eccc-4748-8e4a-676b013950f7",
   "metadata": {},
   "outputs": [],
   "source": [
    "15)how do you group data in data frame and perform aggregation?"
   ]
  },
  {
   "cell_type": "code",
   "execution_count": 15,
   "id": "bccc6318-82c5-4fe1-9c35-42c76523b7c7",
   "metadata": {},
   "outputs": [
    {
     "name": "stdout",
     "output_type": "stream",
     "text": [
      "Category\n",
      "A    40\n",
      "B    60\n",
      "Name: Values, dtype: int64\n"
     ]
    }
   ],
   "source": [
    "import pandas as pd\n",
    "import numpy as np\n",
    "# Sample DataFrame\n",
    "data = {'Category': ['A', 'B', 'A', 'B'],\n",
    "        'Values': [10, 20, 30, 40]}\n",
    "df = pd.DataFrame(data)\n",
    "grouped = df.groupby('Category')['Values'].sum()\n",
    "\n",
    "print(grouped)\n"
   ]
  },
  {
   "cell_type": "code",
   "execution_count": null,
   "id": "ead96c80-1520-4a35-8c87-69e91d0c5c34",
   "metadata": {},
   "outputs": [],
   "source": [
    "16)what is difference between concat and merge in pandas?\n",
    ".concat: it is used to combine data without matcing rows and columns.\n",
    ".merge:it require common column or key to combine data."
   ]
  },
  {
   "cell_type": "code",
   "execution_count": null,
   "id": "97871956-efe5-4fe1-8650-be053cb9848a",
   "metadata": {},
   "outputs": [],
   "source": [
    "17)You have two DataFrames with some overlapping columns. Describe how \n",
    "you would perform an outer join and explain the significance of an outer join \n",
    "compared to an inner join.\n"
   ]
  },
  {
   "cell_type": "code",
   "execution_count": 17,
   "id": "7feef48e-7fce-435c-b440-9a06cdaae792",
   "metadata": {},
   "outputs": [
    {
     "name": "stdout",
     "output_type": "stream",
     "text": [
      "   ID    Name   Age\n",
      "0   1  ossara   NaN\n",
      "1   2    zuha   NaN\n",
      "2   3          15.0\n",
      "3   4     NaN  20.0\n",
      "4   5     NaN  25.0\n"
     ]
    }
   ],
   "source": [
    "import pandas as pdiqra\n",
    "import numpy as np\n",
    "df1 = pd.DataFrame({'ID': [1, 2, 3], 'Name': ['ossara', 'zuha', '']})\n",
    "df2 = pd.DataFrame({'ID': [3, 4, 5], 'Age': [15, 20, 25]})\n",
    "result = pd.merge(df1, df2, on='ID', how='outer')\n",
    "print(result)\n"
   ]
  },
  {
   "cell_type": "code",
   "execution_count": null,
   "id": "d8f0d16c-e709-423d-8202-33df8ca95833",
   "metadata": {},
   "outputs": [],
   "source": [
    "significance:\n",
    "outer join: it combine all rows from both data frames and adding NaN where there’s no match.\n",
    "Inner Join: only keeps match rows in both DataFrames. It focus on common data."
   ]
  },
  {
   "cell_type": "code",
   "execution_count": null,
   "id": "35ebd6f0-0d57-4a93-a884-fa3194c67da2",
   "metadata": {},
   "outputs": [],
   "source": [
    "18) Explain the concept of vectorization in NumPy. How does it improve the performance of numerical computations.\n",
    ".Vectorization in NumPy means performing operations on whole arrays instead of individual elements.\n",
    "#How It Improves Performance:\n",
    "Speed: NumPy is faster.\n",
    "Simplicity: It makes code shorter and easier by handling entire arrays without writing loops.\n"
   ]
  },
  {
   "cell_type": "code",
   "execution_count": 23,
   "id": "11bd0b08-4654-4398-9486-834ce8d9a2d9",
   "metadata": {},
   "outputs": [
    {
     "name": "stdout",
     "output_type": "stream",
     "text": [
      "[ 4  8 12 16]\n"
     ]
    }
   ],
   "source": [
    "import pandas as pd\n",
    "import numpy as np\n",
    "arr=np.array([1, 2, 3, 4])\n",
    "result=arr * 4\n",
    "print(result)\n"
   ]
  },
  {
   "cell_type": "code",
   "execution_count": null,
   "id": "3f9bc5d2-f340-4674-a6bc-c4da4f0d769c",
   "metadata": {},
   "outputs": [],
   "source": [
    "19)You have a DataFrame with a column containing dates. How would you: (a) Convert the date column to a datetime object? \n",
    "(b) Extract the year, month,and day from the dates? (c) Filter the DataFrame to select data from a specific date range?"
   ]
  },
  {
   "cell_type": "code",
   "execution_count": 31,
   "id": "49d07a54-cb25-4813-bbeb-9399a65dab3c",
   "metadata": {},
   "outputs": [
    {
     "name": "stdout",
     "output_type": "stream",
     "text": [
      "Original DataFrame:\n",
      "        Date  Year  Month  Day\n",
      "0 2023-01-01  2023      1    1\n",
      "1 2023-02-15  2023      2   15\n",
      "2 2023-03-20  2023      3   20\n",
      "\n",
      "Filtered DataFrame (dates between 2024-02-01 and 2024-03-31):\n",
      "        Date  Year  Month  Day\n",
      "1 2023-02-15  2023      2   15\n",
      "2 2023-03-20  2023      3   20\n"
     ]
    }
   ],
   "source": [
    "import pandas as pd\n",
    "import numpy as np\n",
    "data = {'Date': ['2023-01-01', '2023-02-15', '2023-03-20']}\n",
    "df = pd.DataFrame(data)\n",
    "df['Date'] = pd.to_datetime(df['Date'])\n",
    "df['Year'] = df['Date'].dt.year\n",
    "df['Month'] = df['Date'].dt.month\n",
    "df['Day'] = df['Date'].dt.day\n",
    "start_date='2023-02-01'\n",
    "end_date='2024-03-31'\n",
    "filtered_df = df[(df['Date'] >= start_date) & (df['Date'] <= end_date)]\n",
    "print(\"Original DataFrame:\")\n",
    "print(df)\n",
    "print(\"\\nFiltered DataFrame (dates between 2024-02-01 and 2024-03-31):\")\n",
    "print(filtered_df)\n"
   ]
  },
  {
   "cell_type": "code",
   "execution_count": null,
   "id": "8ac4c630-4046-46cb-ba07-f09e888e3c4f",
   "metadata": {},
   "outputs": [],
   "source": [
    "20)Describe a scenario where you would use a GroupBy operation in Pandas,and explain how you would perform an aggregation \n",
    "(e.g., calculate the average) within each group."
   ]
  },
  {
   "cell_type": "code",
   "execution_count": 33,
   "id": "ad117189-6cc1-43b3-864d-a9ea1fec9999",
   "metadata": {},
   "outputs": [
    {
     "name": "stdout",
     "output_type": "stream",
     "text": [
      "Average Sales per Region:\n",
      "Region\n",
      "East     425.0\n",
      "North    225.0\n",
      "South    325.0\n",
      "Name: Sales, dtype: float64\n"
     ]
    }
   ],
   "source": [
    "import pandas as pd\n",
    "import numpy as np\n",
    "data = {'Region': ['North', 'South', 'North', 'East', 'South', 'East'],\n",
    "'Sales': [200, 300, 250, 400, 350, 450]}\n",
    "df = pd.DataFrame(data)\n",
    "average_sales = df.groupby('Region')['Sales'].mean()\n",
    "print(\"Average Sales per Region:\")\n",
    "print(average_sales)\n"
   ]
  },
  {
   "cell_type": "code",
   "execution_count": null,
   "id": "f90d8302-7088-4fe1-9817-cbd5fa81c009",
   "metadata": {},
   "outputs": [],
   "source": []
  }
 ],
 "metadata": {
  "kernelspec": {
   "display_name": "Python [conda env:base] *",
   "language": "python",
   "name": "conda-base-py"
  },
  "language_info": {
   "codemirror_mode": {
    "name": "ipython",
    "version": 3
   },
   "file_extension": ".py",
   "mimetype": "text/x-python",
   "name": "python",
   "nbconvert_exporter": "python",
   "pygments_lexer": "ipython3",
   "version": "3.12.7"
  }
 },
 "nbformat": 4,
 "nbformat_minor": 5
}
